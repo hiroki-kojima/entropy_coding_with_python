{
 "cells": [
  {
   "cell_type": "markdown",
   "metadata": {},
   "source": [
    "# エントロピー符号化"
   ]
  },
  {
   "cell_type": "markdown",
   "metadata": {},
   "source": [
    "次のような8種類の文字からなる文字列をデジタル信号であらわすことを考える．"
   ]
  },
  {
   "cell_type": "code",
   "execution_count": 1,
   "metadata": {},
   "outputs": [],
   "source": [
    "signal = 'a' * 16 + 'b' * 4 + 'c' * 4 + 'd' * 2 + 'e' * 2 + 'f' * 2 + 'g' * 1 + 'h' * 1"
   ]
  },
  {
   "cell_type": "code",
   "execution_count": 2,
   "metadata": {},
   "outputs": [
    {
     "data": {
      "text/plain": [
       "'aaaaaaaaaaaaaaaabbbbccccddeeffgh'"
      ]
     },
     "execution_count": 2,
     "metadata": {},
     "output_type": "execute_result"
    }
   ],
   "source": [
    "signal"
   ]
  },
  {
   "cell_type": "markdown",
   "metadata": {},
   "source": [
    "## 固定長符号"
   ]
  },
  {
   "cell_type": "markdown",
   "metadata": {},
   "source": [
    "固定長符号を用いて文字列に含まれる文字に符号を割り当てる関数`fixed_length_code_table`を定義する．"
   ]
  },
  {
   "cell_type": "code",
   "execution_count": 3,
   "metadata": {},
   "outputs": [],
   "source": [
    "def fixed_length_code_table(signal):\n",
    "    \"\"\"Assign a code to a symbol using fixed length coding.\"\"\"\n",
    "    table = {}\n",
    "    \n",
    "    for i, symbol in enumerate(set(signal)):\n",
    "        table[symbol] = bin(i)[2:]\n",
    "    bit = len(max(table.values()))\n",
    "    \n",
    "    return {symbol: code.zfill(bit) for symbol, code in table.items()}"
   ]
  },
  {
   "cell_type": "markdown",
   "metadata": {},
   "source": [
    "定義した関数`fixed_length_code_table`を実行すると，固定長符号の符号表を返す．"
   ]
  },
  {
   "cell_type": "code",
   "execution_count": 4,
   "metadata": {},
   "outputs": [
    {
     "data": {
      "text/plain": [
       "{'h': '000',\n",
       " 'c': '001',\n",
       " 'a': '010',\n",
       " 'g': '011',\n",
       " 'e': '100',\n",
       " 'f': '101',\n",
       " 'd': '110',\n",
       " 'b': '111'}"
      ]
     },
     "execution_count": 4,
     "metadata": {},
     "output_type": "execute_result"
    }
   ],
   "source": [
    "fixed_length_code_table(signal)"
   ]
  },
  {
   "cell_type": "markdown",
   "metadata": {},
   "source": [
    "## ハフマン符号"
   ]
  },
  {
   "cell_type": "markdown",
   "metadata": {},
   "source": [
    "文字列に含まれる文字の出現頻度を調べる関数`counter`を定義する（モジュール`collections`のクラス`Counter`を用いてもよい）．"
   ]
  },
  {
   "cell_type": "code",
   "execution_count": 5,
   "metadata": {},
   "outputs": [],
   "source": [
    "def counter(signal):\n",
    "    \"\"\"Count symbols in the signal.\"\"\"\n",
    "    count = {}\n",
    "    for symbol in signal:\n",
    "        try:\n",
    "            count[symbol] += 1\n",
    "        except KeyError:\n",
    "            count[symbol] = 1\n",
    "    \n",
    "    return count"
   ]
  },
  {
   "cell_type": "markdown",
   "metadata": {},
   "source": [
    "ハフマン符号を用いて文字列に含まれる文字に符号を割り当てる関数`huffman_code_table`を定義する．"
   ]
  },
  {
   "cell_type": "code",
   "execution_count": 6,
   "metadata": {},
   "outputs": [],
   "source": [
    "def huffman_code_table(signal):\n",
    "    \"\"\"Assign a code to a symbol using Huffman coding.\"\"\"\n",
    "    count = list(counter(signal).items())\n",
    "    table = {symbol: '' for symbol, _ in count}\n",
    "\n",
    "    while len(count) > 1:\n",
    "        count.sort(key=lambda t: t[1])\n",
    "\n",
    "        tree1 = count.pop(0)\n",
    "        tree2 = count.pop(0)\n",
    "\n",
    "        for symbol in tree1[0]:\n",
    "            table[symbol] += '0'\n",
    "        for symbol in tree2[0]:\n",
    "            table[symbol] += '1'\n",
    "\n",
    "        count.append((tree1[0] + tree2[0], tree1[1] + tree2[1]))\n",
    "    \n",
    "    if len(table) == 1:\n",
    "        return {symbol: '0' for symbol in table}\n",
    "    else:\n",
    "        return {symbol: code[::-1] for symbol, code in table.items()}"
   ]
  },
  {
   "cell_type": "markdown",
   "metadata": {},
   "source": [
    "定義した関数`huffman_code_table`を実行すると，ハフマン符号の符号表を返す．"
   ]
  },
  {
   "cell_type": "code",
   "execution_count": 7,
   "metadata": {},
   "outputs": [
    {
     "data": {
      "text/plain": [
       "{'a': '0',\n",
       " 'b': '100',\n",
       " 'c': '101',\n",
       " 'd': '1100',\n",
       " 'e': '1101',\n",
       " 'f': '1110',\n",
       " 'g': '11110',\n",
       " 'h': '11111'}"
      ]
     },
     "execution_count": 7,
     "metadata": {},
     "output_type": "execute_result"
    }
   ],
   "source": [
    "huffman_code_table(signal)"
   ]
  },
  {
   "cell_type": "markdown",
   "metadata": {},
   "source": [
    "## エントロピーと平均符号長"
   ]
  },
  {
   "cell_type": "markdown",
   "metadata": {},
   "source": [
    "文字列のエントロピーを求める関数`entropy`を定義する．"
   ]
  },
  {
   "cell_type": "code",
   "execution_count": 8,
   "metadata": {},
   "outputs": [],
   "source": [
    "from math import log2\n",
    "\n",
    "\n",
    "def entropy(signal):\n",
    "    \"\"\"Compute Entropy of the signal.\"\"\"\n",
    "    count = counter(signal)\n",
    "    length = len(signal)\n",
    "    \n",
    "    return -sum(c * log2(c / length) for c in count.values()) / length"
   ]
  },
  {
   "cell_type": "markdown",
   "metadata": {},
   "source": [
    "定義した関数`entropy`を実行すると，文字列のエントロピーを計算する．"
   ]
  },
  {
   "cell_type": "code",
   "execution_count": 9,
   "metadata": {},
   "outputs": [
    {
     "data": {
      "text/plain": [
       "2.3125"
      ]
     },
     "execution_count": 9,
     "metadata": {},
     "output_type": "execute_result"
    }
   ],
   "source": [
    "entropy(signal)"
   ]
  },
  {
   "cell_type": "markdown",
   "metadata": {},
   "source": [
    "文字列に含まれる文字に符号を割り当てた場合の平均符号長を求める関数`average_code_length`を定義する．"
   ]
  },
  {
   "cell_type": "code",
   "execution_count": 10,
   "metadata": {},
   "outputs": [],
   "source": [
    "def average_code_length(signal, table):\n",
    "    \"\"\"Coumpte average code length.\"\"\"\n",
    "    count = counter(signal)\n",
    "    \n",
    "    return sum(c * len(table[s]) for s, c in count.items()) / len(signal)"
   ]
  },
  {
   "cell_type": "markdown",
   "metadata": {},
   "source": [
    "定義した関数`average_code_length`を実行すると，文字列を符号化した際の平均符号長を計算する．"
   ]
  },
  {
   "cell_type": "markdown",
   "metadata": {},
   "source": [
    "固定長符号の平均符号長"
   ]
  },
  {
   "cell_type": "code",
   "execution_count": 11,
   "metadata": {},
   "outputs": [
    {
     "data": {
      "text/plain": [
       "3.0"
      ]
     },
     "execution_count": 11,
     "metadata": {},
     "output_type": "execute_result"
    }
   ],
   "source": [
    "average_code_length(signal, fixed_length_code_table(signal))"
   ]
  },
  {
   "cell_type": "markdown",
   "metadata": {},
   "source": [
    "ハフマン符号の平均符号長"
   ]
  },
  {
   "cell_type": "code",
   "execution_count": 12,
   "metadata": {},
   "outputs": [
    {
     "data": {
      "text/plain": [
       "2.3125"
      ]
     },
     "execution_count": 12,
     "metadata": {},
     "output_type": "execute_result"
    }
   ],
   "source": [
    "average_code_length(signal, huffman_code_table(signal))"
   ]
  },
  {
   "cell_type": "markdown",
   "metadata": {},
   "source": [
    "ハフマン符号の場合，平均符号長とエントロピーが一致する．"
   ]
  },
  {
   "cell_type": "markdown",
   "metadata": {},
   "source": [
    "## エンコードとデコード"
   ]
  },
  {
   "cell_type": "markdown",
   "metadata": {},
   "source": [
    "符号表を参照して文字列をエンコードする関数`encode`を定義する．"
   ]
  },
  {
   "cell_type": "code",
   "execution_count": 13,
   "metadata": {},
   "outputs": [],
   "source": [
    "def encode(signal, table):\n",
    "    \"\"\"Encode the signal using code table.\"\"\"\n",
    "    \n",
    "    return ''.join(table[symbol] for symbol in signal)"
   ]
  },
  {
   "cell_type": "markdown",
   "metadata": {},
   "source": [
    "符号表を参照して符号列をデコードする関数`decode`を定義する．"
   ]
  },
  {
   "cell_type": "code",
   "execution_count": 14,
   "metadata": {},
   "outputs": [],
   "source": [
    "def decode(signal, table):\n",
    "    \"\"\"Decode the signal using code table.\"\"\"\n",
    "    table = {code: symbol for symbol, code in table.items()}\n",
    "\n",
    "    code = ''\n",
    "    decoded = ''\n",
    "    for binary in signal:\n",
    "        code += binary\n",
    "        if code in table:\n",
    "            decoded += table[code]\n",
    "            code = ''\n",
    "        \n",
    "    return decoded"
   ]
  },
  {
   "cell_type": "markdown",
   "metadata": {},
   "source": [
    "ハフマン符号でエンコードした文字列"
   ]
  },
  {
   "cell_type": "code",
   "execution_count": 15,
   "metadata": {},
   "outputs": [],
   "source": [
    "table = huffman_code_table(signal)\n",
    "\n",
    "digital_signal = encode(signal, table)"
   ]
  },
  {
   "cell_type": "code",
   "execution_count": 16,
   "metadata": {},
   "outputs": [
    {
     "data": {
      "text/plain": [
       "'00000000000000001001001001001011011011011100110011011101111011101111011111'"
      ]
     },
     "execution_count": 16,
     "metadata": {},
     "output_type": "execute_result"
    }
   ],
   "source": [
    "digital_signal"
   ]
  },
  {
   "cell_type": "markdown",
   "metadata": {},
   "source": [
    "符号化した文字列をデコードすると元の文字列が得られる．"
   ]
  },
  {
   "cell_type": "code",
   "execution_count": 17,
   "metadata": {},
   "outputs": [
    {
     "data": {
      "text/plain": [
       "'aaaaaaaaaaaaaaaabbbbccccddeeffgh'"
      ]
     },
     "execution_count": 17,
     "metadata": {},
     "output_type": "execute_result"
    }
   ],
   "source": [
    "decode(digital_signal, table)"
   ]
  }
 ],
 "metadata": {
  "kernelspec": {
   "display_name": "Python 3",
   "language": "python",
   "name": "python3"
  },
  "language_info": {
   "codemirror_mode": {
    "name": "ipython",
    "version": 3
   },
   "file_extension": ".py",
   "mimetype": "text/x-python",
   "name": "python",
   "nbconvert_exporter": "python",
   "pygments_lexer": "ipython3",
   "version": "3.6.5"
  },
  "toc": {
   "base_numbering": 1,
   "nav_menu": {},
   "number_sections": true,
   "sideBar": true,
   "skip_h1_title": false,
   "title_cell": "Table of Contents",
   "title_sidebar": "Contents",
   "toc_cell": false,
   "toc_position": {},
   "toc_section_display": true,
   "toc_window_display": false
  }
 },
 "nbformat": 4,
 "nbformat_minor": 2
}
